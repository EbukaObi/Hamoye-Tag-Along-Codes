{
 "cells": [
  {
   "cell_type": "code",
   "execution_count": 1,
   "id": "319e252c-5081-47fd-b0cd-d022ffe1acf8",
   "metadata": {},
   "outputs": [],
   "source": [
    "import pandas as pd\n",
    "from sklearn.model_selection import train_test_split\n",
    "from sklearn.preprocessing import MinMaxScaler\n",
    "from sklearn.linear_model import LinearRegression, Ridge, Lasso\n",
    "from sklearn.metrics import mean_squared_error as mse\n",
    "from sklearn.metrics import mean_absolute_error as mae"
   ]
  },
  {
   "cell_type": "code",
   "execution_count": 8,
   "id": "e143723a-d8fa-49e9-8d20-89e39101fc2a",
   "metadata": {},
   "outputs": [
    {
     "data": {
      "text/html": [
       "<div>\n",
       "<style scoped>\n",
       "    .dataframe tbody tr th:only-of-type {\n",
       "        vertical-align: middle;\n",
       "    }\n",
       "\n",
       "    .dataframe tbody tr th {\n",
       "        vertical-align: top;\n",
       "    }\n",
       "\n",
       "    .dataframe thead th {\n",
       "        text-align: right;\n",
       "    }\n",
       "</style>\n",
       "<table border=\"1\" class=\"dataframe\">\n",
       "  <thead>\n",
       "    <tr style=\"text-align: right;\">\n",
       "      <th></th>\n",
       "      <th>date</th>\n",
       "      <th>Appliances</th>\n",
       "      <th>lights</th>\n",
       "      <th>T1</th>\n",
       "      <th>RH_1</th>\n",
       "      <th>T2</th>\n",
       "      <th>RH_2</th>\n",
       "      <th>T3</th>\n",
       "      <th>RH_3</th>\n",
       "      <th>T4</th>\n",
       "      <th>...</th>\n",
       "      <th>T9</th>\n",
       "      <th>RH_9</th>\n",
       "      <th>T_out</th>\n",
       "      <th>Press_mm_hg</th>\n",
       "      <th>RH_out</th>\n",
       "      <th>Windspeed</th>\n",
       "      <th>Visibility</th>\n",
       "      <th>Tdewpoint</th>\n",
       "      <th>rv1</th>\n",
       "      <th>rv2</th>\n",
       "    </tr>\n",
       "  </thead>\n",
       "  <tbody>\n",
       "    <tr>\n",
       "      <th>0</th>\n",
       "      <td>2016-01-11 17:00:00</td>\n",
       "      <td>60</td>\n",
       "      <td>30</td>\n",
       "      <td>19.89</td>\n",
       "      <td>47.596667</td>\n",
       "      <td>19.2</td>\n",
       "      <td>44.790000</td>\n",
       "      <td>19.79</td>\n",
       "      <td>44.730000</td>\n",
       "      <td>19.000000</td>\n",
       "      <td>...</td>\n",
       "      <td>17.033333</td>\n",
       "      <td>45.53</td>\n",
       "      <td>6.600000</td>\n",
       "      <td>733.5</td>\n",
       "      <td>92.0</td>\n",
       "      <td>7.000000</td>\n",
       "      <td>63.000000</td>\n",
       "      <td>5.3</td>\n",
       "      <td>13.275433</td>\n",
       "      <td>13.275433</td>\n",
       "    </tr>\n",
       "    <tr>\n",
       "      <th>1</th>\n",
       "      <td>2016-01-11 17:10:00</td>\n",
       "      <td>60</td>\n",
       "      <td>30</td>\n",
       "      <td>19.89</td>\n",
       "      <td>46.693333</td>\n",
       "      <td>19.2</td>\n",
       "      <td>44.722500</td>\n",
       "      <td>19.79</td>\n",
       "      <td>44.790000</td>\n",
       "      <td>19.000000</td>\n",
       "      <td>...</td>\n",
       "      <td>17.066667</td>\n",
       "      <td>45.56</td>\n",
       "      <td>6.483333</td>\n",
       "      <td>733.6</td>\n",
       "      <td>92.0</td>\n",
       "      <td>6.666667</td>\n",
       "      <td>59.166667</td>\n",
       "      <td>5.2</td>\n",
       "      <td>18.606195</td>\n",
       "      <td>18.606195</td>\n",
       "    </tr>\n",
       "    <tr>\n",
       "      <th>2</th>\n",
       "      <td>2016-01-11 17:20:00</td>\n",
       "      <td>50</td>\n",
       "      <td>30</td>\n",
       "      <td>19.89</td>\n",
       "      <td>46.300000</td>\n",
       "      <td>19.2</td>\n",
       "      <td>44.626667</td>\n",
       "      <td>19.79</td>\n",
       "      <td>44.933333</td>\n",
       "      <td>18.926667</td>\n",
       "      <td>...</td>\n",
       "      <td>17.000000</td>\n",
       "      <td>45.50</td>\n",
       "      <td>6.366667</td>\n",
       "      <td>733.7</td>\n",
       "      <td>92.0</td>\n",
       "      <td>6.333333</td>\n",
       "      <td>55.333333</td>\n",
       "      <td>5.1</td>\n",
       "      <td>28.642668</td>\n",
       "      <td>28.642668</td>\n",
       "    </tr>\n",
       "    <tr>\n",
       "      <th>3</th>\n",
       "      <td>2016-01-11 17:30:00</td>\n",
       "      <td>50</td>\n",
       "      <td>40</td>\n",
       "      <td>19.89</td>\n",
       "      <td>46.066667</td>\n",
       "      <td>19.2</td>\n",
       "      <td>44.590000</td>\n",
       "      <td>19.79</td>\n",
       "      <td>45.000000</td>\n",
       "      <td>18.890000</td>\n",
       "      <td>...</td>\n",
       "      <td>17.000000</td>\n",
       "      <td>45.40</td>\n",
       "      <td>6.250000</td>\n",
       "      <td>733.8</td>\n",
       "      <td>92.0</td>\n",
       "      <td>6.000000</td>\n",
       "      <td>51.500000</td>\n",
       "      <td>5.0</td>\n",
       "      <td>45.410389</td>\n",
       "      <td>45.410389</td>\n",
       "    </tr>\n",
       "    <tr>\n",
       "      <th>4</th>\n",
       "      <td>2016-01-11 17:40:00</td>\n",
       "      <td>60</td>\n",
       "      <td>40</td>\n",
       "      <td>19.89</td>\n",
       "      <td>46.333333</td>\n",
       "      <td>19.2</td>\n",
       "      <td>44.530000</td>\n",
       "      <td>19.79</td>\n",
       "      <td>45.000000</td>\n",
       "      <td>18.890000</td>\n",
       "      <td>...</td>\n",
       "      <td>17.000000</td>\n",
       "      <td>45.40</td>\n",
       "      <td>6.133333</td>\n",
       "      <td>733.9</td>\n",
       "      <td>92.0</td>\n",
       "      <td>5.666667</td>\n",
       "      <td>47.666667</td>\n",
       "      <td>4.9</td>\n",
       "      <td>10.084097</td>\n",
       "      <td>10.084097</td>\n",
       "    </tr>\n",
       "  </tbody>\n",
       "</table>\n",
       "<p>5 rows × 29 columns</p>\n",
       "</div>"
      ],
      "text/plain": [
       "                  date  Appliances  lights     T1       RH_1    T2       RH_2  \\\n",
       "0  2016-01-11 17:00:00          60      30  19.89  47.596667  19.2  44.790000   \n",
       "1  2016-01-11 17:10:00          60      30  19.89  46.693333  19.2  44.722500   \n",
       "2  2016-01-11 17:20:00          50      30  19.89  46.300000  19.2  44.626667   \n",
       "3  2016-01-11 17:30:00          50      40  19.89  46.066667  19.2  44.590000   \n",
       "4  2016-01-11 17:40:00          60      40  19.89  46.333333  19.2  44.530000   \n",
       "\n",
       "      T3       RH_3         T4  ...         T9   RH_9     T_out  Press_mm_hg  \\\n",
       "0  19.79  44.730000  19.000000  ...  17.033333  45.53  6.600000        733.5   \n",
       "1  19.79  44.790000  19.000000  ...  17.066667  45.56  6.483333        733.6   \n",
       "2  19.79  44.933333  18.926667  ...  17.000000  45.50  6.366667        733.7   \n",
       "3  19.79  45.000000  18.890000  ...  17.000000  45.40  6.250000        733.8   \n",
       "4  19.79  45.000000  18.890000  ...  17.000000  45.40  6.133333        733.9   \n",
       "\n",
       "   RH_out  Windspeed  Visibility  Tdewpoint        rv1        rv2  \n",
       "0    92.0   7.000000   63.000000        5.3  13.275433  13.275433  \n",
       "1    92.0   6.666667   59.166667        5.2  18.606195  18.606195  \n",
       "2    92.0   6.333333   55.333333        5.1  28.642668  28.642668  \n",
       "3    92.0   6.000000   51.500000        5.0  45.410389  45.410389  \n",
       "4    92.0   5.666667   47.666667        4.9  10.084097  10.084097  \n",
       "\n",
       "[5 rows x 29 columns]"
      ]
     },
     "execution_count": 8,
     "metadata": {},
     "output_type": "execute_result"
    }
   ],
   "source": [
    "df = pd.read_csv('energydata_complete.csv')\n",
    "df.head()"
   ]
  },
  {
   "cell_type": "markdown",
   "id": "81fea555-89c4-4bd6-ac56-e36ce7469cad",
   "metadata": {},
   "source": [
    "#### Row Description\n",
    "\n",
    "'''\n",
    "- date: Date and time of the observation\n",
    "- Appliances: Energy consumption of appliances (dependent variable)\n",
    "- lights: Energy consumption of lights (dependent variable)\n",
    "- T1: Temperature in room 1\n",
    "- RH_1: Relative humidity in room 1\n",
    "- T2: Temperature in room 2\n",
    "- RH_2: Relative humidity in room 2\n",
    "- T3: Temperature in room 3\n",
    "- RH_3: Relative humidity in room 3\n",
    "- T4: Temperature in room 4\n",
    "- RH_4: Relative humidity in room 4\n",
    "- T5: Temperature in room 5\n",
    "- RH_5: Relative humidity in room 5\n",
    "- T6: Temperature outside the building (north side)\n",
    "- RH_6: Relative humidity outside the building (north side)\n",
    "- T7: Temperature in ironing room\n",
    "- RH_7: Relative humidity in ironing room\n",
    "- T8: Temperature in teenager room 2\n",
    "- RH_8: Relative humidity in teenager room 2\n",
    "- T9: Temperature in parent's room\n",
    "- RH_9: Relative humidity in parent's room\n",
    "- T_out: Temperature outside (from Chievres weather station)\n",
    "- Press_mm_hg: Pressure (from Chievres weather station)\n",
    "- RH_out: Relative humidity outside (from Chievres weather station)\n",
    "- Windspeed: Windspeed (from Chievres weather station)\n",
    "- Visibility: Visibility (from Chievres weather station)\n",
    "- Tdewpoint: Dewpoint temperature (from Chievres weather station)\n",
    "- rv1: Random variable 1\n",
    "- rv2: Random variable 2\n",
    "'''"
   ]
  },
  {
   "cell_type": "markdown",
   "id": "0ab4b36c-91a9-49e9-b69c-8c13d27e41a7",
   "metadata": {},
   "source": [
    "####"
   ]
  },
  {
   "cell_type": "code",
   "execution_count": 10,
   "id": "d881b180-7b22-4148-a1a5-d202a6961a7b",
   "metadata": {},
   "outputs": [
    {
     "name": "stdout",
     "output_type": "stream",
     "text": [
      "<class 'pandas.core.frame.DataFrame'>\n",
      "RangeIndex: 19735 entries, 0 to 19734\n",
      "Data columns (total 29 columns):\n",
      " #   Column       Non-Null Count  Dtype  \n",
      "---  ------       --------------  -----  \n",
      " 0   date         19735 non-null  object \n",
      " 1   Appliances   19735 non-null  int64  \n",
      " 2   lights       19735 non-null  int64  \n",
      " 3   T1           19735 non-null  float64\n",
      " 4   RH_1         19735 non-null  float64\n",
      " 5   T2           19735 non-null  float64\n",
      " 6   RH_2         19735 non-null  float64\n",
      " 7   T3           19735 non-null  float64\n",
      " 8   RH_3         19735 non-null  float64\n",
      " 9   T4           19735 non-null  float64\n",
      " 10  RH_4         19735 non-null  float64\n",
      " 11  T5           19735 non-null  float64\n",
      " 12  RH_5         19735 non-null  float64\n",
      " 13  T6           19735 non-null  float64\n",
      " 14  RH_6         19735 non-null  float64\n",
      " 15  T7           19735 non-null  float64\n",
      " 16  RH_7         19735 non-null  float64\n",
      " 17  T8           19735 non-null  float64\n",
      " 18  RH_8         19735 non-null  float64\n",
      " 19  T9           19735 non-null  float64\n",
      " 20  RH_9         19735 non-null  float64\n",
      " 21  T_out        19735 non-null  float64\n",
      " 22  Press_mm_hg  19735 non-null  float64\n",
      " 23  RH_out       19735 non-null  float64\n",
      " 24  Windspeed    19735 non-null  float64\n",
      " 25  Visibility   19735 non-null  float64\n",
      " 26  Tdewpoint    19735 non-null  float64\n",
      " 27  rv1          19735 non-null  float64\n",
      " 28  rv2          19735 non-null  float64\n",
      "dtypes: float64(26), int64(2), object(1)\n",
      "memory usage: 4.4+ MB\n"
     ]
    }
   ],
   "source": [
    "df.info()"
   ]
  },
  {
   "cell_type": "markdown",
   "id": "d8e12cd0-8403-4675-b28a-dbbd04f80b8c",
   "metadata": {},
   "source": [
    "####"
   ]
  },
  {
   "cell_type": "markdown",
   "id": "023c4338-a34f-4328-a677-5f3b8ee4ec2b",
   "metadata": {},
   "source": [
    "#### Question 17\n",
    "From the dataset, fit a linear model on the relationship between the temperature in the living room in Celsius (x = T2) and the temperature outside the building (y = T6). What is the Root Mean Squared error in three D.P?"
   ]
  },
  {
   "cell_type": "code",
   "execution_count": 23,
   "id": "5d68264e-0319-4aee-8f49-f51dcf30255a",
   "metadata": {},
   "outputs": [
    {
     "data": {
      "text/plain": [
       "3.644"
      ]
     },
     "execution_count": 23,
     "metadata": {},
     "output_type": "execute_result"
    }
   ],
   "source": [
    "# grab predictor and target variables\n",
    "x = df[['T2']]\n",
    "y = df['T6']\n",
    "\n",
    "model = LinearRegression().fit(x, y) # fit linear model\n",
    "y_pred = model.predict(x) # get predictions\n",
    "mse(y, y_pred, squared=False).round(3) # get rmse"
   ]
  },
  {
   "cell_type": "markdown",
   "id": "3969bb76-2e00-4fd2-9f1c-94402b76f8d2",
   "metadata": {},
   "source": [
    "####"
   ]
  },
  {
   "cell_type": "markdown",
   "id": "8080aa43-3f57-4385-be9a-c741a7c69b2d",
   "metadata": {},
   "source": [
    "#### Question 18\n",
    "Remove the following columns: [“date”, “lights”]. The target variable is “Appliances”. Use a 70-30 train-test set split with a random state of 42 (for reproducibility). Normalize the dataset using the MinMaxScaler (Hint: Use the MinMaxScaler fit_transform and transform methods on the train and test set respectively). Run a multiple linear regression using the training set. Answer the following questions:\n",
    "\n",
    "What is the Mean Absolute Error (in three decimal places) for the training set?"
   ]
  },
  {
   "cell_type": "code",
   "execution_count": 12,
   "id": "611066a4-7bb0-4194-ba4a-3dafa0be5292",
   "metadata": {},
   "outputs": [
    {
     "data": {
      "text/plain": [
       "53.742"
      ]
     },
     "execution_count": 12,
     "metadata": {},
     "output_type": "execute_result"
    }
   ],
   "source": [
    "# get predictor and target variables\n",
    "X = df.drop(columns=['date', 'lights', 'Appliances'])\n",
    "y = df['Appliances']\n",
    "\n",
    "# split data into train and test\n",
    "X_train, X_test, y_train, y_test = train_test_split(X, y, test_size=0.3, random_state=42)\n",
    "\n",
    "# Normalize features\n",
    "scaler = MinMaxScaler()\n",
    "X_train_scaled = scaler.fit_transform(X_train)\n",
    "X_test_scaled = scaler.transform(X_test)\n",
    "\n",
    "# Create model and fit to data\n",
    "model = LinearRegression()\n",
    "model.fit(X_train_scaled, y_train)\n",
    "\n",
    "# Generate predictions and compute MAE\n",
    "y_pred_train = model.predict(X_train_scaled)\n",
    "mae(y_train, y_pred_train).round(3)"
   ]
  },
  {
   "cell_type": "markdown",
   "id": "fbf5a127-7d17-42ab-9911-31b479006dbe",
   "metadata": {},
   "source": [
    "####"
   ]
  },
  {
   "cell_type": "markdown",
   "id": "af5c2eb3-f6be-4a7d-9dd1-4c389971de67",
   "metadata": {},
   "source": [
    "#### Question 19\n",
    "What is the Root Mean Squared Error (in three decimal places) for the training set?"
   ]
  },
  {
   "cell_type": "code",
   "execution_count": 13,
   "id": "0caa249c-475c-4184-950f-34bd2f755168",
   "metadata": {},
   "outputs": [
    {
     "data": {
      "text/plain": [
       "95.216"
      ]
     },
     "execution_count": 13,
     "metadata": {},
     "output_type": "execute_result"
    }
   ],
   "source": [
    "# get rmse\n",
    "mse(y_train, y_pred_train, squared=False).round(3)"
   ]
  },
  {
   "cell_type": "markdown",
   "id": "47d14103-fb5e-4046-9209-c7dd53798d27",
   "metadata": {},
   "source": [
    "####"
   ]
  },
  {
   "cell_type": "markdown",
   "id": "f0e3f402-418b-4af0-82e1-9cf697980e4c",
   "metadata": {},
   "source": [
    "#### Question 20\n",
    "What is the Mean Absolute Error (in three decimal places) for test set?"
   ]
  },
  {
   "cell_type": "code",
   "execution_count": 14,
   "id": "408b98a1-0594-4535-918f-1ae8b5efcb0d",
   "metadata": {},
   "outputs": [
    {
     "data": {
      "text/plain": [
       "53.643"
      ]
     },
     "execution_count": 14,
     "metadata": {},
     "output_type": "execute_result"
    }
   ],
   "source": [
    "mae(y_test, model.predict(X_test_scaled)).round(3)"
   ]
  },
  {
   "cell_type": "markdown",
   "id": "ecb6bbf6-743e-42e2-8483-6e943df4c2d3",
   "metadata": {},
   "source": [
    "####"
   ]
  },
  {
   "cell_type": "markdown",
   "id": "0d4dea00-b6ad-459b-b913-4dde080ceb1b",
   "metadata": {},
   "source": [
    "#### Question 21\n",
    "What is the Root Mean Squared Error (in three decimal places) for test set?"
   ]
  },
  {
   "cell_type": "code",
   "execution_count": 15,
   "id": "fa2cfb17-4681-423f-b0ec-382ce26b5c03",
   "metadata": {},
   "outputs": [
    {
     "data": {
      "text/plain": [
       "93.64"
      ]
     },
     "execution_count": 15,
     "metadata": {},
     "output_type": "execute_result"
    }
   ],
   "source": [
    "rmse = mse(y_test, model.predict(X_test_scaled), squared=False)\n",
    "rmse.round(3)"
   ]
  },
  {
   "cell_type": "markdown",
   "id": "3238ac0b-bd6c-4b82-b962-03e4c60c653d",
   "metadata": {},
   "source": [
    "####"
   ]
  },
  {
   "cell_type": "markdown",
   "id": "45bc14bb-7ac5-4618-8fdf-0ee8ff644826",
   "metadata": {},
   "source": [
    "#### Question 22\n",
    "Did the model above overfit to the training set?\n"
   ]
  },
  {
   "cell_type": "markdown",
   "id": "2106d6d3-e435-490e-9f4f-b8456154abc4",
   "metadata": {},
   "source": [
    "#### Answer: No, since the error on the test is lesser than that on the training data."
   ]
  },
  {
   "cell_type": "markdown",
   "id": "1e8ad0f5-a94f-4fa0-b506-7fc2c80079b2",
   "metadata": {},
   "source": [
    "####"
   ]
  },
  {
   "cell_type": "markdown",
   "id": "1c384b8a-7456-4177-8990-ab5e6abc20dd",
   "metadata": {},
   "source": [
    "#### Question 23\n",
    "Train a ridge regression model with default parameters. Is there any change to the root mean squared error (RMSE) when evaluated on the test set?"
   ]
  },
  {
   "cell_type": "code",
   "execution_count": 18,
   "id": "7a55fd0e-2fbb-48be-8741-137dd82b0d27",
   "metadata": {},
   "outputs": [
    {
     "name": "stdout",
     "output_type": "stream",
     "text": [
      "93.7087747764201\n",
      "Yes\n"
     ]
    }
   ],
   "source": [
    "# instantiate and train ridge model with default hyperparameters\n",
    "ridge = Ridge()\n",
    "ridge.fit(X_train_scaled, y_train)\n",
    "\n",
    "# Get predictions and evaluate\n",
    "ridge_pred_test = ridge.predict(X_test_scaled)\n",
    "rmse_ridge = mse(y_test, ridge_pred_test, squared=False)\n",
    "print(rmse_ridge)\n",
    "\n",
    "if rmse_ridge != rmse:\n",
    "    print('Yes')"
   ]
  },
  {
   "cell_type": "markdown",
   "id": "9d40a2eb-7c3a-4840-b283-c27236811694",
   "metadata": {},
   "source": [
    "####"
   ]
  },
  {
   "cell_type": "markdown",
   "id": "c20ef482-d9b8-4523-9c81-c337ab405d25",
   "metadata": {},
   "source": [
    "#### Question 24\n",
    "Train a lasso regression model with default value and obtain the new feature weights with it. How many of the features have non-zero feature weights?"
   ]
  },
  {
   "cell_type": "code",
   "execution_count": 20,
   "id": "a23db99b-085b-42c5-961f-5a5bebc2ec70",
   "metadata": {},
   "outputs": [
    {
     "data": {
      "text/plain": [
       "4"
      ]
     },
     "execution_count": 20,
     "metadata": {},
     "output_type": "execute_result"
    }
   ],
   "source": [
    "# instantiate and train Lasso model with default hyperparameters\n",
    "lasso = Lasso()\n",
    "lasso.fit(X_train_scaled, y_train)\n",
    "\n",
    "# get number of non-zero feature weights\n",
    "sum(lasso.coef_ != 0)"
   ]
  },
  {
   "cell_type": "markdown",
   "id": "9224da75-3c08-4116-90a2-32c8d744e41c",
   "metadata": {},
   "source": [
    "####"
   ]
  },
  {
   "cell_type": "markdown",
   "id": "40e03a85-dee8-440c-b010-a2184b7edc91",
   "metadata": {},
   "source": [
    "#### Question 25\n",
    "What is the new RMSE with the Lasso Regression on the test set?"
   ]
  },
  {
   "cell_type": "code",
   "execution_count": 22,
   "id": "968b91cc-3019-4a9c-b10f-9f98b5faba79",
   "metadata": {},
   "outputs": [
    {
     "data": {
      "text/plain": [
       "99.424"
      ]
     },
     "execution_count": 22,
     "metadata": {},
     "output_type": "execute_result"
    }
   ],
   "source": [
    "lasso_pred_test = lasso.predict(X_test_scaled)\n",
    "mse(y_test, lasso_pred_test, squared=False).round(3)"
   ]
  }
 ],
 "metadata": {
  "kernelspec": {
   "display_name": "Python 3 (ipykernel)",
   "language": "python",
   "name": "python3"
  },
  "language_info": {
   "codemirror_mode": {
    "name": "ipython",
    "version": 3
   },
   "file_extension": ".py",
   "mimetype": "text/x-python",
   "name": "python",
   "nbconvert_exporter": "python",
   "pygments_lexer": "ipython3",
   "version": "3.11.4"
  }
 },
 "nbformat": 4,
 "nbformat_minor": 5
}
